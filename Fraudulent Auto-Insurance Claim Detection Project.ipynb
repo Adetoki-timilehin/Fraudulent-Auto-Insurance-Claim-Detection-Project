{
 "cells": [
  {
   "cell_type": "code",
   "execution_count": 2,
   "metadata": {},
   "outputs": [],
   "source": [
    "import pandas as pd\n",
    "import numpy as np\n",
    "import matplotlib.pyplot as plt\n",
    "import seaborn as sns\n",
    "import warnings\n",
    "warnings.filterwarnings('ignore')"
   ]
  },
  {
   "cell_type": "code",
   "execution_count": null,
   "metadata": {},
   "outputs": [],
   "source": [
    "!pip install imbalanced-learn"
   ]
  },
  {
   "cell_type": "code",
   "execution_count": 3,
   "metadata": {},
   "outputs": [],
   "source": [
    "import pickle"
   ]
  },
  {
   "cell_type": "code",
   "execution_count": 4,
   "metadata": {},
   "outputs": [],
   "source": [
    "df = pd.read_csv('insurance_claims.csv')"
   ]
  },
  {
   "cell_type": "code",
   "execution_count": 5,
   "metadata": {},
   "outputs": [],
   "source": [
    "df.replace('?', np.nan, inplace = True)"
   ]
  },
  {
   "cell_type": "code",
   "execution_count": 6,
   "metadata": {},
   "outputs": [],
   "source": [
    "df['collision_type'] = df['collision_type'].fillna(df['collision_type'].mode()[0])\n",
    "\n",
    "df['property_damage'] = df['property_damage'].fillna(df['property_damage'].mode()[0])\n",
    "\n",
    "df['police_report_available'] = df['police_report_available'].fillna(df['police_report_available'].mode()[0])\n",
    "\n",
    "to_drop = ['policy_number','policy_bind_date','policy_state','insured_zip','incident_location','incident_date',\n",
    "           'incident_state','incident_city','insured_hobbies','auto_model','auto_year', '_c39', 'insured_occupation', 'insured_relationship', 'policy_csl']\n",
    "\n",
    "df.drop(to_drop, inplace = True, axis = 1)\n",
    "\n",
    "df.drop(columns = ['total_claim_amount'], inplace = True, axis = 1)"
   ]
  },
  {
   "cell_type": "code",
   "execution_count": 7,
   "metadata": {},
   "outputs": [],
   "source": [
    "X = df.drop('fraud_reported', axis = 1)\n",
    "y = df['fraud_reported']"
   ]
  },
  {
   "cell_type": "code",
   "execution_count": 8,
   "metadata": {},
   "outputs": [],
   "source": [
    "cat_df = X.select_dtypes(include = ['object'])\n",
    "\n",
    "\n",
    "cleanup_nums = {\"insured_sex\": {\"MALE\": 1, \"FEMALE\": 2},\n",
    "                \"insured_education_level\": {\"JD\": 5,\"PhD\": 4,\"Associate\": 7,\"MD\": 6,\"High School\": 1,\"Masters\": 3,\"College\": 2},\n",
    "                \"auto_make\": {\"Saab\": 13,\"Dodge\": 12,\"Suburu\": 6,\"Nissan\": 3,\"Chevrolet\": 4,\"Ford\": 10,\"BMW\": 7,\"Toyota\": 1,\"Audi\": 9,\"Volkswagen\": 11,\"Accura\": 5,\"Jeep\": 14,\"Mercedes\": 8,\"Honda\": 2},\n",
    "                \"incident_severity\": {\"Minor Damage\": 1,\"Major Damage\": 2,\"Total Loss\": 3,\"Trivial Damage\": 4},\n",
    "                \"collision_type\": {\"Rear Collision\": 1,\"Side Collision\": 2,\"Front Collision\": 3},\n",
    "                \"incident_type\": {\"Multi-vehicle Collision\": 1,\"Single Vehicle Collision\": 2,\"Vehicle Theft\": 3,\"Parked Car\": 4},\n",
    "                \"property_damage\": {\"NO\": 1,\"YES\": 2},\n",
    "                \"authorities_contacted\": {\"Police\": 1,\"Fire\": 2,\"Other\": 3,\"Ambulance\": 4,\"None\": 5},\n",
    "                \"police_report_available\": {\"NO\": 1,\"YES\": 2}}\n",
    "\n",
    "cat_df = cat_df.replace(cleanup_nums)\n",
    "\n",
    "num_df = X.select_dtypes(include = ['int64'])"
   ]
  },
  {
   "cell_type": "code",
   "execution_count": 9,
   "metadata": {},
   "outputs": [
    {
     "data": {
      "text/html": [
       "<div>\n",
       "<style scoped>\n",
       "    .dataframe tbody tr th:only-of-type {\n",
       "        vertical-align: middle;\n",
       "    }\n",
       "\n",
       "    .dataframe tbody tr th {\n",
       "        vertical-align: top;\n",
       "    }\n",
       "\n",
       "    .dataframe thead th {\n",
       "        text-align: right;\n",
       "    }\n",
       "</style>\n",
       "<table border=\"1\" class=\"dataframe\">\n",
       "  <thead>\n",
       "    <tr style=\"text-align: right;\">\n",
       "      <th></th>\n",
       "      <th>insured_sex</th>\n",
       "      <th>insured_education_level</th>\n",
       "      <th>incident_type</th>\n",
       "      <th>collision_type</th>\n",
       "      <th>incident_severity</th>\n",
       "      <th>authorities_contacted</th>\n",
       "      <th>property_damage</th>\n",
       "      <th>police_report_available</th>\n",
       "      <th>auto_make</th>\n",
       "    </tr>\n",
       "  </thead>\n",
       "  <tbody>\n",
       "    <tr>\n",
       "      <th>0</th>\n",
       "      <td>1</td>\n",
       "      <td>6</td>\n",
       "      <td>2</td>\n",
       "      <td>2</td>\n",
       "      <td>2</td>\n",
       "      <td>1</td>\n",
       "      <td>2</td>\n",
       "      <td>2</td>\n",
       "      <td>13</td>\n",
       "    </tr>\n",
       "    <tr>\n",
       "      <th>1</th>\n",
       "      <td>1</td>\n",
       "      <td>6</td>\n",
       "      <td>3</td>\n",
       "      <td>1</td>\n",
       "      <td>1</td>\n",
       "      <td>1</td>\n",
       "      <td>1</td>\n",
       "      <td>1</td>\n",
       "      <td>8</td>\n",
       "    </tr>\n",
       "    <tr>\n",
       "      <th>2</th>\n",
       "      <td>2</td>\n",
       "      <td>4</td>\n",
       "      <td>1</td>\n",
       "      <td>1</td>\n",
       "      <td>1</td>\n",
       "      <td>1</td>\n",
       "      <td>1</td>\n",
       "      <td>1</td>\n",
       "      <td>12</td>\n",
       "    </tr>\n",
       "    <tr>\n",
       "      <th>3</th>\n",
       "      <td>2</td>\n",
       "      <td>4</td>\n",
       "      <td>2</td>\n",
       "      <td>3</td>\n",
       "      <td>2</td>\n",
       "      <td>1</td>\n",
       "      <td>1</td>\n",
       "      <td>1</td>\n",
       "      <td>4</td>\n",
       "    </tr>\n",
       "    <tr>\n",
       "      <th>4</th>\n",
       "      <td>1</td>\n",
       "      <td>7</td>\n",
       "      <td>3</td>\n",
       "      <td>1</td>\n",
       "      <td>1</td>\n",
       "      <td>5</td>\n",
       "      <td>1</td>\n",
       "      <td>1</td>\n",
       "      <td>5</td>\n",
       "    </tr>\n",
       "  </tbody>\n",
       "</table>\n",
       "</div>"
      ],
      "text/plain": [
       "   insured_sex  insured_education_level  incident_type  collision_type  \\\n",
       "0            1                        6              2               2   \n",
       "1            1                        6              3               1   \n",
       "2            2                        4              1               1   \n",
       "3            2                        4              2               3   \n",
       "4            1                        7              3               1   \n",
       "\n",
       "   incident_severity  authorities_contacted  property_damage  \\\n",
       "0                  2                      1                2   \n",
       "1                  1                      1                1   \n",
       "2                  1                      1                1   \n",
       "3                  2                      1                1   \n",
       "4                  1                      5                1   \n",
       "\n",
       "   police_report_available  auto_make  \n",
       "0                        2         13  \n",
       "1                        1          8  \n",
       "2                        1         12  \n",
       "3                        1          4  \n",
       "4                        1          5  "
      ]
     },
     "execution_count": 9,
     "metadata": {},
     "output_type": "execute_result"
    }
   ],
   "source": [
    "cat_df.head()"
   ]
  },
  {
   "cell_type": "code",
   "execution_count": 10,
   "metadata": {},
   "outputs": [],
   "source": [
    "X = pd.concat([num_df, cat_df], axis = 1)\n",
    "from sklearn.model_selection import train_test_split\n",
    "from imblearn.over_sampling import SMOTE\n",
    "x_resampled, y_resampled = SMOTE().fit_resample(X, y)\n",
    "\n",
    "X_train, X_test, y_train, y_test = train_test_split(x_resampled, y_resampled,test_size = 0.25)\n",
    "num_df = X_train[['age', 'months_as_customer', 'policy_deductable', 'umbrella_limit',\n",
    "       'capital-gains', 'capital-loss', 'incident_hour_of_the_day',\n",
    "       'number_of_vehicles_involved', 'bodily_injuries', 'witnesses', 'injury_claim', 'property_claim',\n",
    "       'vehicle_claim']]\n",
    "\n"
   ]
  },
  {
   "cell_type": "code",
   "execution_count": null,
   "metadata": {},
   "outputs": [],
   "source": [
    "import sys\n",
    "!{sys.executable} -m pip install xgboost"
   ]
  },
  {
   "cell_type": "code",
   "execution_count": 12,
   "metadata": {},
   "outputs": [],
   "source": [
    "from sklearn.metrics import classification_report\n",
    "from sklearn.metrics import confusion_matrix\n",
    "from sklearn.model_selection import GridSearchCV\n",
    "from xgboost import XGBClassifier as xgb\n",
    "from sklearn.ensemble import RandomForestClassifier\n",
    "models = xgb(use_label_encoder = True, random_seed = 42)\n",
    "model = RandomForestClassifier()\n",
    "\n",
    "xgb_grid = {\"min_child_weight\": [1],\n",
    "            \"gamma\": [0, 1, 2],\n",
    "            \"subsample\": [0.6, 0.8],\n",
    "            \"colsample_bytree\": [0.5, 0.6],\n",
    "            \"max_depth\": [6],\n",
    "            \"n_estimators\": [100],\n",
    "            \"booster\": [\"gbtree\"]}\n",
    "\n",
    "rand_grid = {\"n_estimators\": [100, 200],\n",
    "             \"max_depth\": [10,20],\n",
    "             \"max_features\": [\"sqrt\"],\n",
    "             \"min_samples_split\": [2],\n",
    "             \"min_samples_leaf\": [2, 4]}"
   ]
  },
  {
   "cell_type": "code",
   "execution_count": 16,
   "metadata": {},
   "outputs": [
    {
     "data": {
      "text/plain": [
       "GridSearchCV(cv=5, estimator=RandomForestClassifier(),\n",
       "             param_grid={'max_depth': [10, 20], 'max_features': ['sqrt'],\n",
       "                         'min_samples_leaf': [2, 4], 'min_samples_split': [2],\n",
       "                         'n_estimators': [100, 200]})"
      ]
     },
     "execution_count": 16,
     "metadata": {},
     "output_type": "execute_result"
    }
   ],
   "source": [
    "gs_clf = GridSearchCV(estimator = model, param_grid = rand_grid, cv = 5)\n",
    "gs_clf.fit(X_train, y_train)"
   ]
  },
  {
   "cell_type": "code",
   "execution_count": 17,
   "metadata": {},
   "outputs": [
    {
     "name": "stdout",
     "output_type": "stream",
     "text": [
      "              precision    recall  f1-score   support\n",
      "\n",
      "           N       0.81      0.87      0.84       180\n",
      "           Y       0.88      0.82      0.85       197\n",
      "\n",
      "    accuracy                           0.84       377\n",
      "   macro avg       0.84      0.84      0.84       377\n",
      "weighted avg       0.85      0.84      0.84       377\n",
      "\n",
      "{'max_depth': 20, 'max_features': 'sqrt', 'min_samples_leaf': 2, 'min_samples_split': 2, 'n_estimators': 200}\n"
     ]
    }
   ],
   "source": [
    "y_preds = gs_clf.predict(X_test)\n",
    "print(classification_report(y_test, y_preds))\n",
    "print(gs_clf.best_params_)"
   ]
  },
  {
   "cell_type": "code",
   "execution_count": null,
   "metadata": {},
   "outputs": [],
   "source": [
    "pickle.dump(gs_clf, open('model.pkl', 'wb'))"
   ]
  },
  {
   "cell_type": "code",
   "execution_count": null,
   "metadata": {},
   "outputs": [],
   "source": []
  }
 ],
 "metadata": {
  "kernelspec": {
   "display_name": "Python 3",
   "language": "python",
   "name": "python3"
  }
 },
 "nbformat": 4,
 "nbformat_minor": 4
}
